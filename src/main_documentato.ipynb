{
 "cells": [
  {
   "cell_type": "code",
   "id": "53a079a357692757",
   "metadata": {
    "ExecuteTime": {
     "end_time": "2025-07-21T08:31:52.812649Z",
     "start_time": "2025-07-21T08:31:52.522277Z"
    }
   },
   "source": [
    "from src.actors.StudentInfo import StudentInfo\n",
    "from src.certificate_authority.CertificateAuthority import CertificateAuthority\n",
    "from src.actors.Student import Student\n",
    "from src.actors.University import University\n",
    "from src.actors.Blockchain import Blockchain\n",
    "\n",
    "from datetime import datetime, timedelta\n",
    "import time"
   ],
   "outputs": [],
   "execution_count": 1
  },
  {
   "metadata": {},
   "cell_type": "markdown",
   "source": "# --- SET-UP DEGLI ATTORI DEL SISTEMA ---",
   "id": "ab706c2b4e3ba8d3"
  },
  {
   "metadata": {},
   "cell_type": "markdown",
   "source": [
    "Per prima cosa il main provvede ad istanziare:\n",
    "- uno studente;\n",
    "- un’università che farà da università casa dello studente;\n",
    "- un’altra università che farà da università ospitante;\n",
    "- una istanza della classe CertificateAuthority che \"emula\" il comportamento di una CA;\n",
    "- una istanza della classe Blockchain che \"emula\" il comportamento di uno smart contract per la memorizzazione della Certificate Revocation List sulla blockchain.\n",
    "\n",
    "Inoltre vengono aggiunte le informazioni dello studente alla lista delle informazioni sugli studenti dell'università casa, in modo che questa possa, quando sarà richiesto, generare il certificato con le informazioni da lei autenticate."
   ],
   "id": "cb19d90cadf856c5"
  },
  {
   "metadata": {
    "ExecuteTime": {
     "end_time": "2025-07-21T08:31:53.198336Z",
     "start_time": "2025-07-21T08:31:52.828308Z"
    }
   },
   "cell_type": "code",
   "source": [
    "# Creazione struttura contenente le informazioni dello studente\n",
    "student_info = StudentInfo(\n",
    "    matricola_casa=\"0123456789\",\n",
    "    matricola_ospitante=\"0123456789\",\n",
    "    nome=\"Mario\",\n",
    "    cognome=\"Rossi\",\n",
    "    email_casa=\"mario.rossi@studenti.casa.it\",\n",
    "    email_ospitante=\"mario.rossi@etudiant.maison.fr\",\n",
    "    data_di_nascita=\"01/01/2000\",\n",
    "    codice_corso_di_laurea=\"LM-32\",\n",
    "    nome_corso_di_laurea=\"Magistrale in Ingegneria Informatica\",\n",
    "    cfu_totali_conseguiti=100,\n",
    "    media_voti=28.0\n",
    ")\n",
    "\n",
    "# Creazione dello studente\n",
    "student = Student(\n",
    "    party_id=\"01\",\n",
    "    student_info=student_info\n",
    ")\n",
    "\n",
    "# Creazione Università di origine\n",
    "university_of_origin = University(\n",
    "    party_id=\"02\",\n",
    "    nome=\"Università degli Studi di Salerno\",\n",
    "    nazione=\"Italia\",\n",
    "    codice_universita=\"IT-SA01\",\n",
    "    email_contatto=\"relazioni.internazionali@unisa.it\"\n",
    ")\n",
    "\n",
    "# Aggiunta dello studente all'Università di origine\n",
    "university_of_origin.add_student_info(\"01\", student_info)\n",
    "\n",
    "# Creazione Università ospitante\n",
    "host_university = University(\n",
    "    party_id=\"03\",\n",
    "    nome=\"Université de Rene\",\n",
    "    nazione=\"Francia\",\n",
    "    codice_universita=\"FR-RE01\",\n",
    "    email_contatto=\"relations.internationales@unirene.fr\"\n",
    ")\n",
    "\n",
    "# Creazione CA\n",
    "certificate_authority = CertificateAuthority(\"ca_01\")\n",
    "\n",
    "# Creazione della blockchain\n",
    "blockchain = Blockchain()"
   ],
   "id": "7ad87457892e1c1d",
   "outputs": [],
   "execution_count": 2
  },
  {
   "metadata": {},
   "cell_type": "markdown",
   "source": [
    "# Descrizione generale della simulazione\n",
    "La simulazione è volta a mostrare il funzionamento di tutte le fasi descritte nel Work package 3.\n",
    "\n",
    "- Fase A1, uno studente inizia una comunicazione con la sua università d'origine;\n",
    "- Fase B, lo studente richiede alla sua università di origine le proprie informazioni certificate;\n",
    "- Fase A2, lo studente inizia una comunicazione con la sua università ospitante;\n",
    "- Fasi C/D (1), l'università ospitante chiede delle informazioni specifiche allo studente, che le invia e riceve un ack;\n",
    "- Fase E, l'università d'origine revoca il certificato dello studente;\n",
    "- Fasi C/D (2), l'università ospitante chiede delle informazioni specifiche allo studente, che le invia e riceve un nack.\n",
    "\n",
    "Questo flusso di lavoro permette di dimostrare il funzionamento delle principali funzionalità del progetto.\n",
    "\n",
    "Nota: Dopo le fasi C/D (1) la connessione simmetrica tra studente e università ospitante è stata lasciata aperta per evitare di dover ripetere una terza volta la fase A."
   ],
   "id": "ee21176fbe03f0f1"
  },
  {
   "metadata": {},
   "cell_type": "markdown",
   "source": [
    "## --- FASE A1: INIZIO COMUNICAZIONE STUDENTE - UNIVERSITA' ---\n",
    "Lo studente e l'università di origine richiedono alla certificate authority i propri certificati, dopodiché se li scambiano e procedono all'esecuzione del protocollo di distribuzione sicura della chiave di sessione."
   ],
   "id": "65bd578e295a10c6"
  },
  {
   "metadata": {
    "ExecuteTime": {
     "end_time": "2025-07-21T08:31:55.612697Z",
     "start_time": "2025-07-21T08:31:54.067491Z"
    }
   },
   "cell_type": "code",
   "source": [
    "print(\"== FASE A == INIZIO COMUNICAZIONE STUDENTE - UNIVERSITA' DI ORIGINE ==\\n\")\n",
    "\n",
    "start_time = time.perf_counter()\n",
    "# Set-up informazioni per la comunicazione asimmetrica\n",
    "student.set_up_asymmetric_communication_keys()\n",
    "student.ask_for_certificate_of_identity(certificate_authority)\n",
    "\n",
    "university_of_origin.set_up_asymmetric_communication_keys()\n",
    "university_of_origin.ask_for_certificate_of_identity(certificate_authority)\n",
    "\n",
    "# Scambio certificati di identità,\n",
    "# lo studente invia il suo certificato firmato dalla CA all’università di origine\n",
    "print(\"=== MESSAGGIO 1 ===\")\n",
    "print(\"Mittente     :   Studente\")\n",
    "print(\"Destinatario :   Università di origine\")\n",
    "print(\"Descrizione  :   Certificato firmato dalla CA\")\n",
    "print(\"Contenuto    :   C_Stu = E(PR_{auth}, [T_1 || ID_Stu || PU_Stu])\\n\")\n",
    "student_certificate = student.send_certificate_of_identity()\n",
    "university_of_origin.receive_certificate_of_identity(student_certificate)\n",
    "\n",
    "# L’università di origine invia il suo certificato firmato dalla CA allo studente\n",
    "print(\"=== MESSAGGIO 2 ===\")\n",
    "print(\"Mittente     :   Università di origine\")\n",
    "print(\"Destinatario :   Studente\")\n",
    "print(\"Descrizione  :   Certificato firmato dalla CA\")\n",
    "print(\"Contenuto    :   C_U = E(PR_{auth}, [T_2 || ID_U || PU_U])\\n\")\n",
    "university_certificate = university_of_origin.send_certificate_of_identity()\n",
    "student.receive_certificate_of_identity(university_certificate)\n",
    "\n",
    "# Protocollo di distribuzione sicura della chiave, inizio challenge,\n",
    "# l'università invia un nonce1 con la chiave pubblica dello studente\n",
    "# per sfidarlo a dimostrare di possedere la chiave privata corrispondente\n",
    "print(\"=== MESSAGGIO 3 ===\")\n",
    "print(\"Mittente     :   Università di origine\")\n",
    "print(\"Destinatario :   Studente\")\n",
    "print(\"Descrizione  :   Inizio della challenge - mutual authentication protocol\")\n",
    "print(\"Contenuto    :   E(PU_Stu, [ID_U || Nonce_1])\\n\")\n",
    "first_message = university_of_origin.secure_key_distribution_protocol_send_first_message()\n",
    "\n",
    "# Lo studente invia il nonce1 per dimostrare all'università di essere stato\n",
    "# in grado di decrittare il messaggio di sfida e ripropone la stessa\n",
    "# challenge all'università con il nonce2\n",
    "print(\"=== MESSAGGIO 4 ===\")\n",
    "print(\"Mittente     :   Studente\")\n",
    "print(\"Destinatario :   Università di origine\")\n",
    "print(\"Descrizione  :   Risposta alla challenge e invio sfida di autenticazione all'università\")\n",
    "print(\"Contenuto    :   E(PU_U, [Nonce_1 || Nonce_2])\\n\")\n",
    "second_message = student.secure_key_distribution_protocol_receive_first_message_and_send_second_message(first_message)\n",
    "\n",
    "# L'università' invia il nonce2 per dimostrare allo studente di essere stata\n",
    "# in grado di decrittare il messaggio di sfida\n",
    "print(\"=== MESSAGGIO 5 ===\")\n",
    "print(\"Mittente     :   Università di origine\")\n",
    "print(\"Destinatario :   Studente\")\n",
    "print(\"Descrizione  :   Conclusione autenticazione reciproca\")\n",
    "print(\"Contenuto    :   E(PU_Stu, Nonce_2)\\n\")\n",
    "third_message = university_of_origin.secure_key_distribution_protocol_receive_second_message_and_send_third_message(second_message)\n",
    "student.secure_key_distribution_protocol_receive_third_message(third_message)\n",
    "#fine challenge\n",
    "\n",
    "# scambio della chiave di sessione, inizio comunicazione simmetrica\n",
    "print(\"=== MESSAGGIO 6 ===\")\n",
    "print(\"Mittente     :   Università di origine\")\n",
    "print(\"Destinatario :   Studente\")\n",
    "print(\"Descrizione  :   Distribuzione chiave simmetrica\")\n",
    "print(\"Contenuto    :   E(PU_Stu, E(PR_U, K_S))\\n\\n\")\n",
    "university_of_origin.set_up_symmetric_communication()\n",
    "session_info_encrypted = university_of_origin.send_information_symmetric_communication()\n",
    "\n",
    "session_info_decrypted = student.decrypt_and_verify_message_asymmetric_encryption(session_info_encrypted)\n",
    "student.set_up_symmetric_communication_from_info_received(session_info_decrypted)\n",
    "\n",
    "end_time = time.perf_counter()\n",
    "latency_ms = (end_time - start_time) * 1000  # tempo in millisecondi\n",
    "print(\"Tempo per la presentazione tra le parti: \", latency_ms)"
   ],
   "id": "e34aae7288333ca6",
   "outputs": [
    {
     "name": "stdout",
     "output_type": "stream",
     "text": [
      "== FASE A == INIZIO COMUNICAZIONE STUDENTE - UNIVERSITA' DI ORIGINE ==\n",
      "\n",
      "=== MESSAGGIO 1 ===\n",
      "Mittente     :   Studente\n",
      "Destinatario :   Università di origine\n",
      "Descrizione  :   Certificato firmato dalla CA\n",
      "Contenuto    :   C_Stu = E(PR_{auth}, [T_1 || ID_Stu || PU_Stu])\n",
      "\n",
      "NON è passato più di un mese, certificato accettato.\n",
      "=== MESSAGGIO 2 ===\n",
      "Mittente     :   Università di origine\n",
      "Destinatario :   Studente\n",
      "Descrizione  :   Certificato firmato dalla CA\n",
      "Contenuto    :   C_U = E(PR_{auth}, [T_2 || ID_U || PU_U])\n",
      "\n",
      "NON è passato più di un mese, certificato accettato.\n",
      "=== MESSAGGIO 3 ===\n",
      "Mittente     :   Università di origine\n",
      "Destinatario :   Studente\n",
      "Descrizione  :   Inizio della challenge - mutual authentication protocol\n",
      "Contenuto    :   E(PU_Stu, [ID_U || Nonce_1])\n",
      "\n",
      "=== MESSAGGIO 4 ===\n",
      "Mittente     :   Studente\n",
      "Destinatario :   Università di origine\n",
      "Descrizione  :   Risposta alla challenge e invio sfida di autenticazione all'università\n",
      "Contenuto    :   E(PU_U, [Nonce_1 || Nonce_2])\n",
      "\n",
      "=== MESSAGGIO 5 ===\n",
      "Mittente     :   Università di origine\n",
      "Destinatario :   Studente\n",
      "Descrizione  :   Conclusione autenticazione reciproca\n",
      "Contenuto    :   E(PU_Stu, Nonce_2)\n",
      "\n",
      "=== MESSAGGIO 6 ===\n",
      "Mittente     :   Università di origine\n",
      "Destinatario :   Studente\n",
      "Descrizione  :   Distribuzione chiave simmetrica\n",
      "Contenuto    :   E(PU_Stu, E(PR_U, K_S))\n",
      "\n",
      "\n",
      "Tempo per la presentazione tra le parti:  1509.9724000319839\n"
     ]
    }
   ],
   "execution_count": 3
  },
  {
   "metadata": {},
   "cell_type": "markdown",
   "source": [
    "## --- FASE B: RICHIESTA CERTIFICATO ALL'UNIVERSITA' ---\n",
    "Lo studente richiede all'università d'origine il proprio certificato accademico autenticato"
   ],
   "id": "5eddfc28e24b9503"
  },
  {
   "metadata": {
    "ExecuteTime": {
     "end_time": "2025-07-21T08:31:55.860165Z",
     "start_time": "2025-07-21T08:31:55.678927Z"
    }
   },
   "cell_type": "code",
   "source": [
    "print(\"== FASE B == RICHIESTA CERTIFICATO ALL'UNIVERSITA' ==\\n\")\n",
    "\n",
    "print(\"=== MESSAGGIO 1 ===\")\n",
    "print(\"Mittente     :   Studente\")\n",
    "print(\"Destinatario :   Università di origine\")\n",
    "print(\"Descrizione  :   Richiesta credenziali\\n\")\n",
    "student_certificate_request = student.ask_for_student_info_certificate()\n",
    "\n",
    "# L'università invia allo studente le credenziali con il Merkle Tree che potrà\n",
    "# essere usato per verificare l'autenticità dei documenti selezionati e inviati\n",
    "# a terze perti.\n",
    "# Questo permette di avere maggiore privacy in quanto lo studente non è costretto\n",
    "# a comunicare tutte le informazioni presenti nel Merkle Tree ma solo unicamente\n",
    "# quelle necessarie.\n",
    "print(\"=== MESSAGGIO 2 ===\")\n",
    "print(\"Mittente     :   Università di origine\")\n",
    "print(\"Destinatario :   Studente\")\n",
    "print(\"Descrizione  :   Invio credenziali con Merkle Tree per verificarne l'autenticità\")\n",
    "print(\"Contenuto    :   E(K_S, MerkleTree||E(K_U, RadiceMerkleTree))\\n\\n\")\n",
    "encrypted_info = university_of_origin.receive_student_info_certificate_request(student_certificate_request)\n",
    "student.receive_student_info_certificate(encrypted_info)\n",
    "\n",
    "# Termine comunicazione simmetrica\n",
    "encrypted_end_communication_message = university_of_origin.end_symmetric_communication()\n",
    "encrypted_end_communication_message = student.end_symmetric_communication()"
   ],
   "id": "8c7933fadd32c7b7",
   "outputs": [
    {
     "name": "stdout",
     "output_type": "stream",
     "text": [
      "== FASE B == RICHIESTA CERTIFICATO ALL'UNIVERSITA' ==\n",
      "\n",
      "=== MESSAGGIO 1 ===\n",
      "Mittente     :   Studente\n",
      "Destinatario :   Università di origine\n",
      "Descrizione  :   Richiesta credenziali\n",
      "\n",
      "=== MESSAGGIO 2 ===\n",
      "Mittente     :   Università di origine\n",
      "Destinatario :   Studente\n",
      "Descrizione  :   Invio credenziali con Merkle Tree per verificarne l'autenticità\n",
      "Contenuto    :   E(K_S, MerkleTree||E(K_U, RadiceMerkleTree))\n",
      "\n",
      "\n"
     ]
    }
   ],
   "execution_count": 4
  },
  {
   "metadata": {},
   "cell_type": "markdown",
   "source": [
    "## --- FASE A2: INIZIO COMUNICAZIONE STUDENTE - UNIVERSITA' OSPITANTE ---\n",
    "Al fine di simulare lo scambio tra studente e università ospitante è necessario ripetere la fase A, questa volta tra questi due enti."
   ],
   "id": "8fe318c11086467e"
  },
  {
   "metadata": {
    "ExecuteTime": {
     "end_time": "2025-07-21T08:31:56.812104Z",
     "start_time": "2025-07-21T08:31:55.934983Z"
    }
   },
   "cell_type": "code",
   "source": [
    "print(\"== FASE A == INIZIO COMUNICAZIONE STUDENTE - UNIVERSITA' OSPITANTE ==\\n\")\n",
    "\n",
    "start_time = time.perf_counter()\n",
    "# Set-up informazioni per la comunicazione asimmetrica\n",
    "host_university.set_up_asymmetric_communication_keys()\n",
    "host_university.ask_for_certificate_of_identity(certificate_authority)\n",
    "\n",
    "# Scambio certificati di identità,\n",
    "# lo studente invia il suo certificato firmato dalla CA all’università di origine\n",
    "print(\"=== MESSAGGIO 1 ===\")\n",
    "print(\"Mittente     :   Studente\")\n",
    "print(\"Destinatario :   Università ospitante\")\n",
    "print(\"Descrizione  :   Certificato firmato dalla CA\")\n",
    "print(\"Contenuto    :   C_Stu = E(PR_{auth}, [T_1 || ID_Stu || PU_Stu])\\n\")\n",
    "student_certificate = student.send_certificate_of_identity()\n",
    "host_university.receive_certificate_of_identity(student_certificate)\n",
    "\n",
    "# L’università di origine invia il suo certificato firmato dalla CA allo studente\n",
    "print(\"=== MESSAGGIO 2 ===\")\n",
    "print(\"Mittente     :   Università ospitante\")\n",
    "print(\"Destinatario :   Studente\")\n",
    "print(\"Descrizione  :   Certificato firmato dalla CA\")\n",
    "print(\"Contenuto    :   C_U = E(PR_{auth}, [T_2 || ID_U || PU_U])\\n\")\n",
    "university_certificate = host_university.send_certificate_of_identity()\n",
    "student.receive_certificate_of_identity(university_certificate)\n",
    "\n",
    "# Protocollo di distribuzione sicura della chiave, inizio challenge,\n",
    "# l'università invia un nonce1 con la chiave pubblica dello studente\n",
    "# per sfidarlo a dimostrare di possedere la chiave privata corrispondente\n",
    "print(\"=== MESSAGGIO 3 ===\")\n",
    "print(\"Mittente     :   Università ospitante\")\n",
    "print(\"Destinatario :   Studente\")\n",
    "print(\"Descrizione  :   Inizio della challenge - mutual authentication protocol\")\n",
    "print(\"Contenuto    :   E(PU_Stu, [ID_U || Nonce_1])\\n\")\n",
    "first_message = host_university.secure_key_distribution_protocol_send_first_message()\n",
    "\n",
    "# Lo studente invia il nonce1 per dimostrare all'università di essere stato\n",
    "# in grado di decrittare il messaggio di sfida e ripropone la stessa\n",
    "# challenge all'università con il nonce2\n",
    "print(\"=== MESSAGGIO 4 ===\")\n",
    "print(\"Mittente     :   Studente\")\n",
    "print(\"Destinatario :   Università ospitante\")\n",
    "print(\"Descrizione  :   Risposta alla challenge e invio sfida di autenticazione all'università\")\n",
    "print(\"Contenuto    :   E(PU_U, [Nonce_1 || Nonce_2])\\n\")\n",
    "second_message = student.secure_key_distribution_protocol_receive_first_message_and_send_second_message(first_message)\n",
    "\n",
    "# L'università' invia il nonce2 per dimostrare allo studente di essere stata\n",
    "# in grado di decrittare il messaggio di sfida\n",
    "print(\"=== MESSAGGIO 5 ===\")\n",
    "print(\"Mittente     :   Università ospitante\")\n",
    "print(\"Destinatario :   Studente\")\n",
    "print(\"Descrizione  :   Conclusione autenticazione reciproca\")\n",
    "print(\"Contenuto    :   E(PU_Stu, Nonce_2)\\n\")\n",
    "third_message = host_university.secure_key_distribution_protocol_receive_second_message_and_send_third_message(second_message)\n",
    "student.secure_key_distribution_protocol_receive_third_message(third_message)\n",
    "#fine challenge\n",
    "\n",
    "# scambio della chiave di sessione, inizio comunicazione simmetrica\n",
    "print(\"=== MESSAGGIO 6 ===\")\n",
    "print(\"Mittente     :   Università ospitante\")\n",
    "print(\"Destinatario :   Studente\")\n",
    "print(\"Descrizione  :   Distribuzione chiave simmetrica\")\n",
    "print(\"Contenuto    :   E(PU_Stu, E(PR_U, K_S))\\n\\n\")\n",
    "host_university.set_up_symmetric_communication()\n",
    "session_info_encrypted = host_university.send_information_symmetric_communication()\n",
    "\n",
    "session_info_decrypted = student.decrypt_and_verify_message_asymmetric_encryption(session_info_encrypted)\n",
    "student.set_up_symmetric_communication_from_info_received(session_info_decrypted)\n",
    "\n",
    "end_time = time.perf_counter()\n",
    "latency_ms = (end_time - start_time) * 1000  # tempo in millisecondi\n",
    "print(\"Tempo per la presentazione tra le parti: \", latency_ms)"
   ],
   "id": "fa2e934ed52863e9",
   "outputs": [
    {
     "name": "stdout",
     "output_type": "stream",
     "text": [
      "== FASE A == INIZIO COMUNICAZIONE STUDENTE - UNIVERSITA' OSPITANTE ==\n",
      "\n",
      "=== MESSAGGIO 1 ===\n",
      "Mittente     :   Studente\n",
      "Destinatario :   Università ospitante\n",
      "Descrizione  :   Certificato firmato dalla CA\n",
      "Contenuto    :   C_Stu = E(PR_{auth}, [T_1 || ID_Stu || PU_Stu])\n",
      "\n",
      "NON è passato più di un mese, certificato accettato.\n",
      "=== MESSAGGIO 2 ===\n",
      "Mittente     :   Università ospitante\n",
      "Destinatario :   Studente\n",
      "Descrizione  :   Certificato firmato dalla CA\n",
      "Contenuto    :   C_U = E(PR_{auth}, [T_2 || ID_U || PU_U])\n",
      "\n",
      "NON è passato più di un mese, certificato accettato.\n",
      "=== MESSAGGIO 3 ===\n",
      "Mittente     :   Università ospitante\n",
      "Destinatario :   Studente\n",
      "Descrizione  :   Inizio della challenge - mutual authentication protocol\n",
      "Contenuto    :   E(PU_Stu, [ID_U || Nonce_1])\n",
      "\n",
      "=== MESSAGGIO 4 ===\n",
      "Mittente     :   Studente\n",
      "Destinatario :   Università ospitante\n",
      "Descrizione  :   Risposta alla challenge e invio sfida di autenticazione all'università\n",
      "Contenuto    :   E(PU_U, [Nonce_1 || Nonce_2])\n",
      "\n",
      "=== MESSAGGIO 5 ===\n",
      "Mittente     :   Università ospitante\n",
      "Destinatario :   Studente\n",
      "Descrizione  :   Conclusione autenticazione reciproca\n",
      "Contenuto    :   E(PU_Stu, Nonce_2)\n",
      "\n",
      "=== MESSAGGIO 6 ===\n",
      "Mittente     :   Università ospitante\n",
      "Destinatario :   Studente\n",
      "Descrizione  :   Distribuzione chiave simmetrica\n",
      "Contenuto    :   E(PU_Stu, E(PR_U, K_S))\n",
      "\n",
      "\n",
      "Tempo per la presentazione tra le parti:  847.5632999325171\n"
     ]
    }
   ],
   "execution_count": 5
  },
  {
   "metadata": {},
   "cell_type": "markdown",
   "source": [
    "## --- FASE C: INVIO CERTIFICATO ALL'UNIVERSITA' e FASE D VERIFICA CERTIFICATO ---\n",
    "L'università ospitante richiede una certa informazione allo studente, quest'ultimo la fornisce insieme alla merkle proof necessaria a verificare l'autenticità dei dati. Infine l'università ospitante fornisce un ACK per confermare che i dati erano corretti.\n",
    "La comunicazione simmetrica tra le due parti non viene chiusa in quanto si intende riprovare questa fase dopo aver revocato il certificato e si vuole evitare una terza esecuzione della fase per brevità."
   ],
   "id": "e6f9da732b406a15"
  },
  {
   "metadata": {
    "ExecuteTime": {
     "end_time": "2025-07-21T08:31:56.943340Z",
     "start_time": "2025-07-21T08:31:56.919856Z"
    }
   },
   "cell_type": "code",
   "source": [
    "print(\"== FASE C == INVIO CERTIFICATO ALL'UNIVERSITA' ==\\n\")\n",
    "\n",
    "# L'università fa una richiesta di informazioni secifiche allo studente\n",
    "print(\"=== MESSAGGIO 1 ===\")\n",
    "print(\"Mittente     :   Università ospitante\")\n",
    "print(\"Destinatario :   Studente\")\n",
    "print(\"Descrizione  :   Richiesta informazioni specifiche\")\n",
    "print(\"Contenuto    :   E(K_S, Richiesta mail_casa)\\n\")\n",
    "encrypted_request = host_university.request_info(\"email_casa\")\n",
    "\n",
    "# Lo studente invia le informazioni alleganto il Merkle Tree e tutti\n",
    "# i gli Hash dei nodi aggiuntivi necessari per il calcolo dell'autenticità\n",
    "print(\"=== MESSAGGIO 2 ===\")\n",
    "print(\"Mittente     :   Studente\")\n",
    "print(\"Destinatario :   Università ospitante\")\n",
    "print(\"Descrizione  :   Informazioni specifiche richiesta con Merkle Tree per verificarte l'auteticità\")\n",
    "print(\"Contenuto    :   E(K_S, foglieRichiesteDelMerkleTree||nodiAggiuntiviDelMerkleTreePerIlCalcoloDellaRadice||E(K_U, RadiceMerkleTree))\\n\\n\")\n",
    "encrypted_info_student = student.receive_request_info_and_send_info(encrypted_request)"
   ],
   "id": "b9898c31871d8389",
   "outputs": [
    {
     "name": "stdout",
     "output_type": "stream",
     "text": [
      "== FASE C == INVIO CERTIFICATO ALL'UNIVERSITA' ==\n",
      "\n",
      "=== MESSAGGIO 1 ===\n",
      "Mittente     :   Università ospitante\n",
      "Destinatario :   Studente\n",
      "Descrizione  :   Richiesta informazioni specifiche\n",
      "Contenuto    :   E(K_S, Richiesta mail_casa)\n",
      "\n",
      "=== MESSAGGIO 2 ===\n",
      "Mittente     :   Studente\n",
      "Destinatario :   Università ospitante\n",
      "Descrizione  :   Informazioni specifiche richiesta con Merkle Tree per verificarte l'auteticità\n",
      "Contenuto    :   E(K_S, foglieRichiesteDelMerkleTree||nodiAggiuntiviDelMerkleTreePerIlCalcoloDellaRadice||E(K_U, RadiceMerkleTree))\n",
      "\n",
      "\n"
     ]
    }
   ],
   "execution_count": 6
  },
  {
   "metadata": {
    "ExecuteTime": {
     "end_time": "2025-07-21T08:31:57.060712Z",
     "start_time": "2025-07-21T08:31:57.039831Z"
    }
   },
   "cell_type": "code",
   "source": [
    "print(\"== FASE D == VERIFICA CERTIFICATO ==\\n\")\n",
    "\n",
    "print(\"=== MESSAGGIO 1 ===\")\n",
    "print(\"Mittente     :   Università ospitante\")\n",
    "print(\"Destinatario :   Studente\")\n",
    "print(\"Descrizione  :   Notifica di ricezione di certificato corretto o no\")\n",
    "print(\"Contenuto    :   E(K_S, ack/nack)\\n\")\n",
    "# L'università verifica le informazioni e notifica lo studente con un riscontro positivo o negativo\n",
    "# l'università ospitante ha bisogno di conoscere l'identità dell'università casa, per semplicità si passa la chiave pubblica come argomento\n",
    "ack_nack = host_university.receive_info_requested(encrypted_info_student, university_of_origin.asymmetric_encryption_information.public_key, blockchain)\n",
    "\n",
    "student.receive_feedback_on_info_student(ack_nack)\n",
    "\n",
    "# manteniamo aperta la comunicazione in modo da non doverla riaprire per verificare se la revoca funziona\n",
    "#host_university.end_symmetric_communication()\n",
    "#student.end_symmetric_communication()"
   ],
   "id": "ff942cd6c8a6ad04",
   "outputs": [
    {
     "name": "stdout",
     "output_type": "stream",
     "text": [
      "== FASE D == VERIFICA CERTIFICATO ==\n",
      "\n",
      "=== MESSAGGIO 1 ===\n",
      "Mittente     :   Università ospitante\n",
      "Destinatario :   Studente\n",
      "Descrizione  :   Notifica di ricezione di certificato corretto o no\n",
      "Contenuto    :   E(K_S, ack/nack)\n",
      "\n",
      "ACK\n",
      "Il certificato delle informazioni sullo studente è stato \n",
      "ACCETTATO\n"
     ]
    }
   ],
   "execution_count": 7
  },
  {
   "metadata": {},
   "cell_type": "markdown",
   "source": [
    "## --- FASE E: REVOCA CERTIFICATO ---\n",
    "L'università di origine esegue la revoca del certificato rilasciato allo studente aggiungendo il codice del certificato alla Certificate Revocation List ospitata dalla blockchain."
   ],
   "id": "46f6fe91e61bd4ba"
  },
  {
   "metadata": {
    "ExecuteTime": {
     "end_time": "2025-07-21T08:31:57.188153Z",
     "start_time": "2025-07-21T08:31:57.169924Z"
    }
   },
   "cell_type": "code",
   "source": [
    "print(\"== FASE E == REVOCA CERTIFICATO ==\\n\")\n",
    "\n",
    "print(\"=== MESSAGGIO 1 ===\")\n",
    "print(\"Mittente     :   Università ospitante\")\n",
    "print(\"Destinatario :   Studente\")\n",
    "print(\"Descrizione  :   Aggiunta alla CRL sulla blockchain del codice del certificato da revocare\")\n",
    "university_of_origin.revoke_certificate(\"01\", blockchain)"
   ],
   "id": "c3ac8ec440d96201",
   "outputs": [
    {
     "name": "stdout",
     "output_type": "stream",
     "text": [
      "== FASE E == REVOCA CERTIFICATO ==\n",
      "\n",
      "=== MESSAGGIO 1 ===\n",
      "Mittente     :   Università ospitante\n",
      "Destinatario :   Studente\n",
      "Descrizione  :   Aggiunta alla CRL sulla blockchain del codice del certificato da revocare\n",
      "certificato di 01 revocato\n"
     ]
    }
   ],
   "execution_count": 8
  },
  {
   "metadata": {},
   "cell_type": "markdown",
   "source": [
    "## --- FASE C: INVIO CERTIFICATO ALL'UNIVERSITA' e FASE D VERIFICA CERTIFICATO ---\n",
    "L'università ospitante richiede una certa informazione allo studente, quest'ultimo la fornisce insieme alla merkle proof necessaria a verificare l'autenticità dei dati. Infine l'università ospitante fornisce un NACK in quanto il certificato risulta revocato."
   ],
   "id": "aa0b77c4e297275b"
  },
  {
   "metadata": {
    "ExecuteTime": {
     "end_time": "2025-07-21T08:31:57.333691Z",
     "start_time": "2025-07-21T08:31:57.303875Z"
    }
   },
   "cell_type": "code",
   "source": [
    "print(\"== FASE C == INVIO CERTIFICATO ALL'UNIVERSITA' ==\\n\")\n",
    "\n",
    "# L'università fa una richiesta di informazioni specifiche allo studente\n",
    "print(\"=== MESSAGGIO 1 ===\")\n",
    "print(\"Mittente     :   Università ospitante\")\n",
    "print(\"Destinatario :   Studente\")\n",
    "print(\"Descrizione  :   Richiesta informazioni specifiche\")\n",
    "print(\"Contenuto    :   E(K_S, Richiesta mail_casa)\\n\")\n",
    "encrypted_request = host_university.request_info(\"email_casa\")\n",
    "\n",
    "# Lo studente invia le informazioni alleganto il Merkle Tree e tutti\n",
    "# i gli Hash dei nodi aggiuntivi necessari per il calcolo dell'autenticità\n",
    "print(\"=== MESSAGGIO 2 ===\")\n",
    "print(\"Mittente     :   Studente\")\n",
    "print(\"Destinatario :   Università ospitante\")\n",
    "print(\"Descrizione  :   Informazioni specifiche richiesta con Merkle Tree per verificarte l'auteticità\")\n",
    "print(\"Contenuto    :   E(K_S, foglieRichiesteDelMerkleTree||nodiAggiuntiviDelMerkleTreePerIlCalcoloDellaRadice||E(K_U, RadiceMerkleTree))\\n\\n\")\n",
    "encrypted_info_student = student.receive_request_info_and_send_info(encrypted_request)"
   ],
   "id": "9b02c7af3d46b740",
   "outputs": [
    {
     "name": "stdout",
     "output_type": "stream",
     "text": [
      "== FASE C == INVIO CERTIFICATO ALL'UNIVERSITA' ==\n",
      "\n",
      "=== MESSAGGIO 1 ===\n",
      "Mittente     :   Università ospitante\n",
      "Destinatario :   Studente\n",
      "Descrizione  :   Richiesta informazioni specifiche\n",
      "Contenuto    :   E(K_S, Richiesta mail_casa)\n",
      "\n",
      "=== MESSAGGIO 2 ===\n",
      "Mittente     :   Studente\n",
      "Destinatario :   Università ospitante\n",
      "Descrizione  :   Informazioni specifiche richiesta con Merkle Tree per verificarte l'auteticità\n",
      "Contenuto    :   E(K_S, foglieRichiesteDelMerkleTree||nodiAggiuntiviDelMerkleTreePerIlCalcoloDellaRadice||E(K_U, RadiceMerkleTree))\n",
      "\n",
      "\n"
     ]
    }
   ],
   "execution_count": 9
  },
  {
   "metadata": {
    "collapsed": true,
    "ExecuteTime": {
     "end_time": "2025-07-21T08:31:57.493225Z",
     "start_time": "2025-07-21T08:31:57.468848Z"
    }
   },
   "cell_type": "code",
   "source": [
    "print(\"== FASE D == VERIFICA CERTIFICATO ==\\n\")\n",
    "\n",
    "print(\"=== MESSAGGIO 1 ===\")\n",
    "print(\"Mittente     :   Università ospitante\")\n",
    "print(\"Destinatario :   Studente\")\n",
    "print(\"Descrizione  :   Notifica di ricezione di certificato corretto o no\")\n",
    "print(\"Contenuto    :   E(K_S, ack/nack)\\n\")\n",
    "# L'università verifica le informazioni e notifica lo studente con un riscontro positivo o negativo\n",
    "# l'università ospitante ha bisogno di conoscere l'identità dell'università casa, per semplicità si passa la chiave pubblica come argomento\n",
    "ack_nack = host_university.receive_info_requested(encrypted_info_student, university_of_origin.asymmetric_encryption_information.public_key, blockchain)\n",
    "\n",
    "student.receive_feedback_on_info_student(ack_nack)\n",
    "\n",
    "# Termine della comunicazione cifrata\n",
    "encrypted_end_communication_message = host_university.end_symmetric_communication()\n",
    "encrypted_end_communication_message = student.end_symmetric_communication()"
   ],
   "id": "initial_id",
   "outputs": [
    {
     "name": "stdout",
     "output_type": "stream",
     "text": [
      "== FASE D == VERIFICA CERTIFICATO ==\n",
      "\n",
      "=== MESSAGGIO 1 ===\n",
      "Mittente     :   Università ospitante\n",
      "Destinatario :   Studente\n",
      "Descrizione  :   Notifica di ricezione di certificato corretto o no\n",
      "Contenuto    :   E(K_S, ack/nack)\n",
      "\n",
      "NACK\n",
      "Il certificato delle informazioni sullo studente è stato \n",
      "RIFIUTATO\n"
     ]
    }
   ],
   "execution_count": 10
  }
 ],
 "metadata": {
  "kernelspec": {
   "display_name": "Python 3",
   "language": "python",
   "name": "python3"
  },
  "language_info": {
   "codemirror_mode": {
    "name": "ipython",
    "version": 2
   },
   "file_extension": ".py",
   "mimetype": "text/x-python",
   "name": "python",
   "nbconvert_exporter": "python",
   "pygments_lexer": "ipython2",
   "version": "2.7.6"
  }
 },
 "nbformat": 4,
 "nbformat_minor": 5
}
